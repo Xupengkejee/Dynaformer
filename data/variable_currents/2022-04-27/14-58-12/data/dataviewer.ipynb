{
 "cells": [
  {
   "cell_type": "code",
   "execution_count": 13,
   "metadata": {},
   "outputs": [
    {
     "ename": "ImportError",
     "evalue": "cannot import name 'CurrentProfile' from 'surrogate' (c:\\Users\\li ding\\Downloads\\python-3.10.10-embed-amd64\\lib\\site-packages\\surrogate\\__init__.py)",
     "output_type": "error",
     "traceback": [
      "\u001b[1;31m---------------------------------------------------------------------------\u001b[0m",
      "\u001b[1;31mImportError\u001b[0m                               Traceback (most recent call last)",
      "Cell \u001b[1;32mIn[13], line 9\u001b[0m\n\u001b[0;32m      7\u001b[0m \u001b[38;5;28;01mimport\u001b[39;00m \u001b[38;5;21;01mos\u001b[39;00m\n\u001b[0;32m      8\u001b[0m \u001b[38;5;28;01mimport\u001b[39;00m \u001b[38;5;21;01mjson\u001b[39;00m\n\u001b[1;32m----> 9\u001b[0m \u001b[38;5;28;01mfrom\u001b[39;00m \u001b[38;5;21;01msurrogate\u001b[39;00m \u001b[38;5;28;01mimport\u001b[39;00m CurrentProfile\n",
      "\u001b[1;31mImportError\u001b[0m: cannot import name 'CurrentProfile' from 'surrogate' (c:\\Users\\li ding\\Downloads\\python-3.10.10-embed-amd64\\lib\\site-packages\\surrogate\\__init__.py)"
     ]
    }
   ],
   "source": [
    "import pickle as pkl\n",
    "import numpy as np\n",
    "import pandas as pd\n",
    "import matplotlib.pyplot as plt\n",
    "import matplotlib as mpl\n",
    "import matplotlib.gridspec as gridspec\n",
    "import os\n",
    "import json\n",
    "from surrogate import CurrentProfile\n"
   ]
  },
  {
   "cell_type": "code",
   "execution_count": 12,
   "metadata": {},
   "outputs": [
    {
     "name": "stdout",
     "output_type": "stream",
     "text": [
      "c:\\Users\\li ding\\Desktop\\repo\\Dynaformer\\data\\variable_currents\\2022-04-27\\14-58-12\\data\n"
     ]
    },
    {
     "ename": "AttributeError",
     "evalue": "Can't get attribute 'CurrentProfile' on <module 'surrogate' from 'c:\\\\Users\\\\li ding\\\\Downloads\\\\python-3.10.10-embed-amd64\\\\lib\\\\site-packages\\\\surrogate\\\\__init__.py'>",
     "output_type": "error",
     "traceback": [
      "\u001b[1;31m---------------------------------------------------------------------------\u001b[0m",
      "\u001b[1;31mAttributeError\u001b[0m                            Traceback (most recent call last)",
      "Cell \u001b[1;32mIn[12], line 7\u001b[0m\n\u001b[0;32m      5\u001b[0m \u001b[38;5;28;01mwith\u001b[39;00m \u001b[38;5;28mopen\u001b[39m(metadata_path, \u001b[38;5;124m'\u001b[39m\u001b[38;5;124mr\u001b[39m\u001b[38;5;124m'\u001b[39m) \u001b[38;5;28;01mas\u001b[39;00m f:\n\u001b[0;32m      6\u001b[0m     metadata \u001b[38;5;241m=\u001b[39m json\u001b[38;5;241m.\u001b[39mload(f)\n\u001b[1;32m----> 7\u001b[0m     data \u001b[38;5;241m=\u001b[39m \u001b[43mpkl\u001b[49m\u001b[38;5;241;43m.\u001b[39;49m\u001b[43mload\u001b[49m\u001b[43m(\u001b[49m\u001b[38;5;28;43mopen\u001b[39;49m\u001b[43m(\u001b[49m\u001b[43mfilename\u001b[49m\u001b[43m,\u001b[49m\u001b[43m \u001b[49m\u001b[38;5;124;43m'\u001b[39;49m\u001b[38;5;124;43mrb\u001b[39;49m\u001b[38;5;124;43m'\u001b[39;49m\u001b[43m)\u001b[49m\u001b[43m)\u001b[49m\n\u001b[0;32m      9\u001b[0m \u001b[38;5;28mprint\u001b[39m(metadata)\n",
      "\u001b[1;31mAttributeError\u001b[0m: Can't get attribute 'CurrentProfile' on <module 'surrogate' from 'c:\\\\Users\\\\li ding\\\\Downloads\\\\python-3.10.10-embed-amd64\\\\lib\\\\site-packages\\\\surrogate\\\\__init__.py'>"
     ]
    }
   ],
   "source": [
    "filename = \"test_currentss_20.pkl\"\n",
    "data_dir = os.path.dirname(os.path.abspath(filename))\n",
    "print(data_dir)\n",
    "metadata_path = os.path.join(data_dir, 'metadata.json')\n",
    "with open(metadata_path, 'r') as f:\n",
    "    metadata = json.load(f)\n",
    "    data = pkl.load(open(filename, 'rb'))\n",
    "\n",
    "print(metadata)\n"
   ]
  }
 ],
 "metadata": {
  "kernelspec": {
   "display_name": "Python 3",
   "language": "python",
   "name": "python3"
  },
  "language_info": {
   "codemirror_mode": {
    "name": "ipython",
    "version": 3
   },
   "file_extension": ".py",
   "mimetype": "text/x-python",
   "name": "python",
   "nbconvert_exporter": "python",
   "pygments_lexer": "ipython3",
   "version": "3.10.10"
  }
 },
 "nbformat": 4,
 "nbformat_minor": 2
}
